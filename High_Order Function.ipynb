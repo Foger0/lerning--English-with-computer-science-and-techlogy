{
 "cells": [
  {
   "attachments": {},
   "cell_type": "markdown",
   "metadata": {},
   "source": [
    "So when we study functions we may discover some underly common pattens of some function. We can build the abstraction of these patten by using high-order functions which can manipulate other functions as powerful abstraction mechanisms."
   ]
  },
  {
   "cell_type": "code",
   "execution_count": 2,
   "metadata": {},
   "outputs": [
    {
     "data": {
      "text/plain": [
       "5050"
      ]
     },
     "execution_count": 2,
     "metadata": {},
     "output_type": "execute_result"
    }
   ],
   "source": [
    "def sum_naturals(n):\n",
    "    total,k=0,1\n",
    "    while k<=n:\n",
    "        total,k=total+k,k+1\n",
    "    return total\n",
    "sum_naturals(100)   "
   ]
  },
  {
   "cell_type": "code",
   "execution_count": 5,
   "metadata": {},
   "outputs": [
    {
     "data": {
      "text/plain": [
       "25502500"
      ]
     },
     "execution_count": 5,
     "metadata": {},
     "output_type": "execute_result"
    }
   ],
   "source": [
    "def sum_cubs(n):\n",
    "    total,k=0,1\n",
    "    while k<=n:\n",
    "        total,k=total+k*k*k,k+1\n",
    "    return total\n",
    "sum_cubs(100)   "
   ]
  },
  {
   "cell_type": "code",
   "execution_count": 4,
   "metadata": {},
   "outputs": [
    {
     "data": {
      "text/plain": [
       "3.1415426535898203"
      ]
     },
     "execution_count": 4,
     "metadata": {},
     "output_type": "execute_result"
    }
   ],
   "source": [
    "def pi_sum(n):\n",
    "    total,k=0,1\n",
    "    while k<=n:\n",
    "        total,k=total+8/((4*k-3)*(4*k-1)),k+1\n",
    "    return total\n",
    "pi_sum(10000)"
   ]
  },
  {
   "attachments": {},
   "cell_type": "markdown",
   "metadata": {},
   "source": [
    "As you can see, these three functions clearly share a common pattern of repeatlly computing the addtion of a changing number. The only difference between them is the method of number modifacation. We can implement a high-order function to add a changing number multiple times by manipulating the functions that decribe changes in the number. The next time we need to add a changing number in a different way, we simply provide two arguments: the function depicting how numbers change and the number of times they should add iteratively."
   ]
  },
  {
   "cell_type": "code",
   "execution_count": 2,
   "metadata": {},
   "outputs": [
    {
     "data": {
      "text/plain": [
       "3.1415426535898203"
      ]
     },
     "execution_count": 2,
     "metadata": {},
     "output_type": "execute_result"
    }
   ],
   "source": [
    "def summation(n,term):\n",
    "    total,k=0,1\n",
    "    while k<=n:\n",
    "        total,k=total+term(k),k+1\n",
    "    return total\n",
    "def pi_term(k):\n",
    "    return 8/((4*k-3)*(4*k-1))\n",
    "summation(10000,pi_term)"
   ]
  },
  {
   "attachments": {},
   "cell_type": "markdown",
   "metadata": {},
   "source": [
    "This example demonstrates that functions can be used as arguments. Functions also serve as the general methods, independent of the particular functions they call. They can be used more widely in many aspect.\n",
    "Below is a high-order as a general method."
   ]
  },
  {
   "cell_type": "code",
   "execution_count": null,
   "metadata": {},
   "outputs": [],
   "source": [
    "def improve(close, update, guess=1):\n",
    "    while not close(guess):\n",
    "        guess=update(guess)\n",
    "    return guess"
   ]
  },
  {
   "attachments": {},
   "cell_type": "markdown",
   "metadata": {},
   "source": [
    "This function is a general repetitive refinement. it's dosen't specify what problem is being solved. and left most detail to the update and close functions passed in as arguments. So now some exsamples will indicate it wide applicability."
   ]
  },
  {
   "attachments": {},
   "cell_type": "markdown",
   "metadata": {},
   "source": [
    "<h>Inplememt function computing golden ratio.</h>"
   ]
  },
  {
   "cell_type": "code",
   "execution_count": 11,
   "metadata": {},
   "outputs": [
    {
     "data": {
      "text/plain": [
       "1.6176470588235294"
      ]
     },
     "execution_count": 11,
     "metadata": {},
     "output_type": "execute_result"
    }
   ],
   "source": [
    "def improve(close, update, guess=1):\n",
    "    while not close(guess):\n",
    "        guess=update(guess)\n",
    "    return guess\n",
    "def golden_update(guess):\n",
    "    return 1/guess+1\n",
    "def approx_eq(x,y,torlerence=1e-3):\n",
    "    return abs(x-y)<torlerence\n",
    "def golden_close(guess):\n",
    "    return approx_eq(guess * guess, guess + 1)\n",
    "improve(golden_close,golden_update)\n"
   ]
  },
  {
   "attachments": {},
   "cell_type": "markdown",
   "metadata": {},
   "source": [
    "Implement Newton's Method."
   ]
  },
  {
   "cell_type": "code",
   "execution_count": 5,
   "metadata": {},
   "outputs": [
    {
     "data": {
      "text/plain": [
       "2.000000032935665"
      ]
     },
     "execution_count": 5,
     "metadata": {},
     "output_type": "execute_result"
    }
   ],
   "source": [
    "def improve(close,update,guess=1):\n",
    "    while not close(guess):\n",
    "        guess=update(guess)\n",
    "    return guess\n",
    "def approx_eq(x,y,torlerence=1e-3):\n",
    "    return abs(x-y)<torlerence\n",
    "def newton_close(x):\n",
    "    return approx_eq(x,0)\n",
    "def newton_update(f,df):\n",
    "    def update(x):\n",
    "       return x-f(x)/df(x)\n",
    "    return update\n",
    "def find_zero(f,df):\n",
    "    def near_zero(x):\n",
    "        return newton_close(f(x))\n",
    "    return improve(near_zero,newton_update(f,df))\n",
    "def square_root_newton(a,n):\n",
    "        def f(x):\n",
    "            return x ** n - a\n",
    "        def df(x):\n",
    "            return n*(x ** (n-1))\n",
    "        return find_zero(f, df)\n",
    "square_root_newton(64,6)\n",
    "\n",
    "        "
   ]
  },
  {
   "attachments": {},
   "cell_type": "markdown",
   "metadata": {},
   "source": [
    "This general method can be described as a connection middleware, which connect different close() and update() functions. Above two examples show  functions other two properties of As Returned Value and Nested Definitions at the same time. "
   ]
  }
 ],
 "metadata": {
  "kernelspec": {
   "display_name": "Python 3",
   "language": "python",
   "name": "python3"
  },
  "language_info": {
   "codemirror_mode": {
    "name": "ipython",
    "version": 3
   },
   "file_extension": ".py",
   "mimetype": "text/x-python",
   "name": "python",
   "nbconvert_exporter": "python",
   "pygments_lexer": "ipython3",
   "version": "3.11.1"
  },
  "orig_nbformat": 4
 },
 "nbformat": 4,
 "nbformat_minor": 2
}
