{
 "cells": [
  {
   "attachments": {},
   "cell_type": "markdown",
   "metadata": {},
   "source": [
    "implement Newton's Method"
   ]
  },
  {
   "cell_type": "code",
   "execution_count": 5,
   "metadata": {},
   "outputs": [
    {
     "data": {
      "text/plain": [
       "8.0"
      ]
     },
     "execution_count": 5,
     "metadata": {},
     "output_type": "execute_result"
    }
   ],
   "source": [
    "def improve(close,update,guess=1):\n",
    "    while not close(guess):\n",
    "        guess=update(guess)\n",
    "    return guess\n",
    "def close(guess,value,torlenrence=0.00000000000000000001):\n",
    "    if(abs(guess-value)<torlenrence ):\n",
    "        return True\n",
    "    else:\n",
    "        return False\n",
    "def newton_update(f,df):\n",
    "    def update(x):\n",
    "       return x-f(x)/df(x)\n",
    "    return update\n",
    "def find_zero(f,df):\n",
    "    def near_zero(x):\n",
    "        return close(f(x),0)\n",
    "    return improve(near_zero,newton_update(f,df))\n",
    "def square_root_newton(a):\n",
    "        def f(x):\n",
    "            return x * x - a\n",
    "        def df(x):\n",
    "            return 2 * x\n",
    "        return find_zero(f, df)\n",
    "square_root_newton(64)\n",
    "\n",
    "        "
   ]
  }
 ],
 "metadata": {
  "kernelspec": {
   "display_name": "Python 3",
   "language": "python",
   "name": "python3"
  },
  "language_info": {
   "codemirror_mode": {
    "name": "ipython",
    "version": 3
   },
   "file_extension": ".py",
   "mimetype": "text/x-python",
   "name": "python",
   "nbconvert_exporter": "python",
   "pygments_lexer": "ipython3",
   "version": "3.11.1"
  },
  "orig_nbformat": 4
 },
 "nbformat": 4,
 "nbformat_minor": 2
}
