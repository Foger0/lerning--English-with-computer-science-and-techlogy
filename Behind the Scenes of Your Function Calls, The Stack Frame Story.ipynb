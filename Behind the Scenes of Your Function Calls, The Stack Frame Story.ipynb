{
 "cells": [
  {
   "attachments": {},
   "cell_type": "markdown",
   "metadata": {},
   "source": [
    "In this page, I will provide a comprehentive explianation of the detail that occur when function are called.  \n",
    "To ensure you are on the same wavelength as me, Here are some concepts and their relationship you should deeply comprehend.  \n",
    "**Frames**: The fundamental element to describe function calling contains \"bindings\" that associate each name with it corresponding value. \n",
    "In my opnion, I consider each frame as a mission with a box, providing some tools(values) or subtasks to ensure you can complete the mission.   \n",
    "**Enviroments**: \"Enviroments\" is an abstract concept that has different defitions in various cases. In the contest of calling function, it is defined as a sequence of frames, more like to be called variable environment. To better understsnding this think of it as needing a kitchen to make food. The kitchen composed many items to let you making delicious food, and the kitchen represents the enviroment. In this description, You can reallize that almost all concepts in computer science are derived from our everyday life.   \n",
    "**Stacks**: Stacks are used for storing items accessed in Last in, First Out(LIFO) order. They are the most appropriate data structure for storing frames, ensuring that the subtasks are completed before executing the main task of mission(function). Stacks pay more attention to creation and destruction of frames. Their behavior is similar to human actions, which I need to turn on the cumputer and get a cup of tea before programing.  \n",
    "**Heap**: The heap in memory is a huge area consisting of numerous memory blocks used for dynamically allocating and deallocating memory for object or data structures such as sequence list, linked list, and so on. It is neccessary because when we call a function to process a large amount of data we can't store all the data in the stack. Doing so may cause a classical error called stackoverflow, To avoid this issue we have the heap which allows for manual memory allocation and deallocation, providing flexibility in handling vast amounts of data. Subsequently, Whenever a frame needs to access this data, it can do so via reference(address) pointing to the memory block containing the data. The heap can be likend to a refrigerator, where different food are stored in various compartments. Whenever you have to make a fried egg taking an egg from refrigerator instead of your pocket.  \n",
    "I know it may still be difficult to understand, Below, I would like to provide some python codes to demonstrade how they work tongether  ensure the calling function successfully.\n"
   ]
  },
  {
   "cell_type": "code",
   "execution_count": 1,
   "metadata": {},
   "outputs": [
    {
     "name": "stdout",
     "output_type": "stream",
     "text": [
      "Cooking meat at 350 degrees for 10 minutes.\n",
      "Toasting bread at 300 degrees for 5 minutes.\n",
      "Assembling burger with ingredients: ['toasted_bread', 'cooked_meat', 'lettuce', 'tomato', 'cheese', 'toasted_bread']\n",
      "Burger ready: ['toasted_bread', 'cooked_meat', 'lettuce', 'tomato', 'cheese', 'toasted_bread']\n"
     ]
    }
   ],
   "source": [
    "# global enviroment\n",
    "burger_recipe = [\"bread\", \"meat\", \"lettuce\", \"tomato\", \"cheese\"]\n",
    "cooking_instructions = {\n",
    "    \"meat\": {\"temperature\": 350, \"time\": 10},\n",
    "    \"bread\": {\"temperature\": 300, \"time\": 5}\n",
    "}\n",
    "\n",
    "# Heap\n",
    "ingredient_stock = {\n",
    "    \"bread\": 10,\n",
    "    \"meat\": 5,\n",
    "    \"lettuce\": 20,\n",
    "    \"tomato\": 15,\n",
    "    \"cheese\": 8\n",
    "}\n",
    "\n",
    "def cook_meat():\n",
    "    # 栈：烤肉任务的帧（局部变量）\n",
    "    meat_temperature = cooking_instructions[\"meat\"][\"temperature\"]\n",
    "    cooking_time = cooking_instructions[\"meat\"][\"time\"]\n",
    "    ingredient_stock[\"meat\"] -= 1\n",
    "    print(f\"Cooking meat at {meat_temperature} degrees for {cooking_time} minutes.\")\n",
    "    return \"cooked_meat\"\n",
    "\n",
    "def toast_bread():\n",
    "    # 栈：烤面包任务的帧（局部变量）\n",
    "    bread_temperature = cooking_instructions[\"bread\"][\"temperature\"]\n",
    "    cooking_time = cooking_instructions[\"bread\"][\"time\"]\n",
    "    ingredient_stock[\"bread\"] -= 2\n",
    "    print(f\"Toasting bread at {bread_temperature} degrees for {cooking_time} minutes.\")\n",
    "    return \"toasted_bread\"\n",
    "\n",
    "def make_burger():\n",
    "    cooked_meat = cook_meat()\n",
    "    toasted_bread = toast_bread()\n",
    "    burger = [toasted_bread, cooked_meat, \"lettuce\", \"tomato\", \"cheese\", toasted_bread]\n",
    "    print(\"Assembling burger with ingredients:\", burger)\n",
    "    return burger\n",
    "\n",
    "# 制作汉堡\n",
    "burger = make_burger()\n",
    "print(\"Burger ready:\", burger)\n",
    "\n",
    "    \n"
   ]
  }
 ],
 "metadata": {
  "kernelspec": {
   "display_name": "Python 3",
   "language": "python",
   "name": "python3"
  },
  "language_info": {
   "codemirror_mode": {
    "name": "ipython",
    "version": 3
   },
   "file_extension": ".py",
   "mimetype": "text/x-python",
   "name": "python",
   "nbconvert_exporter": "python",
   "pygments_lexer": "ipython3",
   "version": "3.11.1"
  },
  "orig_nbformat": 4
 },
 "nbformat": 4,
 "nbformat_minor": 2
}
